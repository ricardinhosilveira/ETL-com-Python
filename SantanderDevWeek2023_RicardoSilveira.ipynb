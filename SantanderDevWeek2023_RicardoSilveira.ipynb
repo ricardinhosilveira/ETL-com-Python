https://colab.research.google.com/drive/1SF_Q3AybFPozCcoFBptDSFbMk-6IVGF-?usp=sharing#scrollTo=YefWfYBoZMN2
