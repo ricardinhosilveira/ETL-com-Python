https://colab.research.google.com/drive/1SF_Q3AybFPozCcoFBptDSFbMk-6IVGF-#scrollTo=k5fA5OrXt1a3&line=1&uniqifier=1
